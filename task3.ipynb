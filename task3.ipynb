{
 "cells": [
  {
   "cell_type": "markdown",
   "id": "ed1bc4d418b6f666",
   "metadata": {},
   "source": [
    "# Task 3: Non-linear Conjugate Gradient Methods\n",
    "\n",
    "This Jupyter Notebook is designed to explore advanced optimization techniques using the conjugate gradient method applied to two specific functions: the well-known Rosenbrock function and a custom-designed function. The aim is to compare the effectiveness of different conjugate gradient variants, namely Fletcher-Reeves and Polak-Ribiere, in finding global minima of these functions.\n"
   ]
  },
  {
   "cell_type": "markdown",
   "id": "e0da13a0c2145e5a",
   "metadata": {},
   "source": [
    "## Theoretical Background"
   ]
  },
  {
   "cell_type": "markdown",
   "id": "4b526bb930cbf980",
   "metadata": {},
   "source": [
    "### Target Functions\n"
   ]
  },
  {
   "cell_type": "markdown",
   "id": "40712df2d0007644",
   "metadata": {},
   "source": [
    "#### Rosenbrock Function\n",
    "\n",
    "The Rosenbrock function is formulated as:\n",
    "$$ f(x) = 100(x_2 - x_1^2)^2 + (1 - x_1)^2 $$\n",
    "\n",
    "To find the global minimum analytically, we start by setting the gradient of the function to zero. The gradient components are:\n",
    "$$ \\frac{\\partial f}{\\partial x_1} = -400x_1(x_2 - x_1^2) - 2(1 - x_1) $$\n",
    "$$ \\frac{\\partial f}{\\partial x_2} = 200(x_2 - x_1^2) $$\n",
    "\n",
    "Setting these derivatives to zero, we derive:\n",
    "\n",
    "1. From $\\frac{\\partial f}{\\partial x_2} = 0$, we find that $x_2 = x_1^2$.\n",
    "2. Substituting $x_2 = x_1^2$ into $\\frac{\\partial f}{\\partial x_1}$ and simplifying, we get:\n",
    "   $$ -400x_1(x_1^2 - x_1^2) - 2(1 - x_1) = 0 $$\n",
    "   $$ -2(1 - x_1) = 0 $$\n",
    "   Leading to $x_1 = 1$.\n",
    "\n",
    "Given $x_1 = 1$, and substituting back, we find $x_2 = 1^2 = 1$.\n",
    "\n",
    "Therefore, the global minimum is at $(x_1, x_2) = (1, 1)$ where $f(x) = 0$, lying at the bottom of a long, narrow, parabolic-shaped valley.\n"
   ]
  },
  {
   "cell_type": "code",
   "execution_count": 10,
   "id": "aeb4ffa7de72bf8c",
   "metadata": {
    "ExecuteTime": {
     "end_time": "2024-05-13T10:18:18.835243Z",
     "start_time": "2024-05-13T10:18:18.753572Z"
    }
   },
   "outputs": [],
   "source": [
    "import numpy as np\n",
    "\n",
    "def safe_rosenbrock(x):\n",
    "    # Clipping x values to prevent excessive values\n",
    "    x = np.clip(x, -10, 10)\n",
    "    return 100 * (x[1] - x[0]**2)**2 + (1 - x[0])**2\n"
   ]
  },
  {
   "cell_type": "code",
   "execution_count": 11,
   "id": "dcbdde772acf9c37",
   "metadata": {
    "ExecuteTime": {
     "end_time": "2024-05-13T10:18:18.835412Z",
     "start_time": "2024-05-13T10:18:18.758298Z"
    }
   },
   "outputs": [],
   "source": [
    "import numpy as np\n",
    "\n",
    "def safe_grad_rosenbrock(x):\n",
    "    x = np.clip(x, -10, 10)\n",
    "    grad = np.zeros(2)\n",
    "    grad[0] = -400 * x[0] * (x[1] - x[0]**2) - 2 * (1 - x[0])\n",
    "    grad[1] = 200 * (x[1] - x[0]**2)\n",
    "    return grad\n"
   ]
  },
  {
   "cell_type": "markdown",
   "id": "9e742554dba87d52",
   "metadata": {},
   "source": [
    "#### Custom Function\n",
    "\n",
    "The custom function is defined as:\n",
    "$$ f(x) = 150(x_1 x_2)^2 + (0.5 x_1 + 2 x_2 - 2)^2 $$\n",
    "\n",
    "To analyze the global minimum, we set the gradient to zero. The gradient components are:\n",
    "$$ \\frac{\\partial f}{\\partial x_1} = 300 x_1 x_2^2 + (0.5 x_1 + 2 x_2 - 2) $$\n",
    "$$ \\frac{\\partial f}{\\partial x_2} = 300 x_1^2 x_2 + 4(0.5 x_1 + 2 x_2 - 2) $$\n",
    "\n",
    "Setting these derivatives to zero, we simplify and solve:\n",
    "\n",
    "1. From $\\frac{\\partial f}{\\partial x_1} = 0$ and $\\frac{\\partial f}{\\partial x_2} = 0$, assuming $x_1 = 0$, we find:\n",
    "   $$ 2 x_2 - 2 = 0 $$\n",
    "   Leading to $x_2 = 1$.\n",
    "2. Substituting $x_1 = 0$ into $\\frac{\\partial f}{\\partial x_2}$ yields:\n",
    "   $$ 4(2 x_2 - 2) = 0 $$\n",
    "   Confirms that $x_2 = 1$.\n",
    "\n",
    "Therefore, the point $(x_1, x_2) = (0, 1)$ represents a critical point. Further analysis, potentially including second derivative tests or numerical verification, would confirm its nature as a global minimum.\n"
   ]
  },
  {
   "cell_type": "markdown",
   "source": [
    "To determine if there is another point where $f(x_1, x_2) = 0$ for the custom function:\n",
    "$$ f(x) = 150(x_1 x_2)^2 + (0.5 x_1 + 2 x_2 - 2)^2 $$\n",
    "\n",
    "we need to find conditions under which both terms in the function evaluate to zero because this is the only way their sum can be zero. Here's the breakdown:\n",
    "\n",
    "**Analyzing Each Term for Zero:**\n",
    "\n",
    "1. **The first term $150(x_1 x_2)^2$ equals zero when:**\n",
    "   - $x_1 = 0$ or\n",
    "   - $x_2 = 0$\n",
    "\n",
    "2. **The second term $(0.5 x_1 + 2 x_2 - 2)^2$ equals zero when:**\n",
    "   - $0.5 x_1 + 2 x_2 - 2 = 0$\n",
    "\n",
    "**Solving for Conditions:**\n",
    "\n",
    "Given the conditions from the second term, we rearrange the equation:\n",
    "$$ 0.5 x_1 + 2 x_2 = 2 $$\n",
    "$$ x_2 = 1 - 0.25 x_1 $$\n",
    "\n",
    "Now, substitute this expression for $x_2$ into the condition from the first term:\n",
    "$$ x_1 \\cdot (1 - 0.25 x_1) = 0 $$\n",
    "\n",
    "This equation is satisfied when $x_1 = 0$ or $x_1 = 4$. Let's explore both:\n",
    "\n",
    "- **If $x_1 = 0$**:\n",
    "  - Substituting $x_1 = 0$ in $x_2 = 1 - 0.25 \\cdot 0$:\n",
    "  - $x_2 = 1$\n",
    "  - This point $(0, 1)$ was already identified as a global minimizer where $f(x) = 0$.\n",
    "\n",
    "- **If $x_1 = 4$**:\n",
    "  - Substituting $x_1 = 4$ in $x_2 = 1 - 0.25 \\cdot 4$:\n",
    "  - $x_2 = 0$\n",
    "  - This results in the point $(4, 0)$, and checking $f(4, 0)$:\n",
    "  - $f(4, 0) = 150(4 \\cdot 0)^2 + (0.5 \\cdot 4 + 2 \\cdot 0 - 2)^2 = 0$\n",
    "  - This shows $f(4, 0)$ is zero, too, constituting a second global minimizer candidate.\n",
    "\n"
   ],
   "metadata": {
    "collapsed": false
   },
   "id": "e5176396bb825a4e"
  },
  {
   "cell_type": "markdown",
   "id": "dc865c47b1e1e1dc",
   "metadata": {},
   "source": [
    "To verify whether $(4, 0)$ is also a minimum, we evaluate the gradient components at this point.\n",
    "\n",
    "At $(4, 0)$ we get:\n",
    "\n",
    "$$ \\frac{\\partial f}{\\partial x_1} = 300 \\cdot 4 \\cdot 0^2 + 0.5(0.5 \\cdot 4 + 2 \\cdot 0 - 2) = 0 $$\n",
    "$$ \\frac{\\partial f}{\\partial x_2} = 300 \\cdot 4^2 \\cdot 0 + 2(0.5 \\cdot 4 + 2 \\cdot 0 - 2) = 0 $$\n",
    "\n",
    "Both derivatives are zero, confirming that $(4, 0)$ is a critical point. As with $(0,1)$, further analysis would confirm its nature as a minimum.\n"
   ]
  },
  {
   "cell_type": "code",
   "execution_count": 12,
   "id": "b4cc21ec9631314e",
   "metadata": {
    "ExecuteTime": {
     "end_time": "2024-05-13T10:18:18.843195Z",
     "start_time": "2024-05-13T10:18:18.764644Z"
    }
   },
   "outputs": [],
   "source": [
    "import numpy as np\n",
    "\n",
    "def custom_function(x):\n",
    "    \"\"\"Calculate the custom function value at x.\"\"\"\n",
    "    return 150 * (x[0] * x[1])**2 + (0.5 * x[0] + 2 * x[1] - 2)**2\n"
   ]
  },
  {
   "cell_type": "code",
   "execution_count": 13,
   "id": "6ed356632ca62fbc",
   "metadata": {
    "ExecuteTime": {
     "end_time": "2024-05-13T10:18:18.846590Z",
     "start_time": "2024-05-13T10:18:18.769411Z"
    }
   },
   "outputs": [],
   "source": [
    "import numpy as np\n",
    "\n",
    "def grad_custom_function(x):\n",
    "    \"\"\"Calculate the gradient of the custom function at x.\"\"\"\n",
    "    grad = np.zeros(2)\n",
    "    grad[0] = 300 * x[0] * x[1]**2 + 2 * (0.5 * x[0] + 2 * x[1] - 2) * 0.5\n",
    "    grad[1] = 300 * x[0]**2 * x[1] + 2 * (0.5 * x[0] + 2 * x[1] - 2) * 2\n",
    "    return grad\n"
   ]
  },
  {
   "cell_type": "markdown",
   "id": "359623f641d1ee2a",
   "metadata": {},
   "source": [
    "## Methodological Approach\n",
    "\n",
    "In this section, we describe the optimization algorithms employed in this study: the Fletcher-Reeves (FR) and Polak-Ribiere (PR) conjugate gradient methods. These methods are variants of the conjugate gradient technique, a popular approach for solving nonlinear optimization problems without constraints. The choice of these methods is motivated by their efficiency in handling large-scale problems and their robustness in navigating complex function landscapes.\n"
   ]
  },
  {
   "cell_type": "markdown",
   "id": "6dc642b5403b47cc",
   "metadata": {},
   "source": [
    "### Line Search Methods\n",
    "\n",
    "A crucial component in optimization algorithms that use gradient information is the line search technique. The line search aims to find an acceptable step size that satisfies certain conditions, improving the convergence of the method.\n",
    "\n",
    "#### Backtracking Line Search\n",
    "\n",
    "Backtracking line search is a type of adaptive step size technique used to find a step size that meets the Armijo condition, a fundamental criterion in ensuring sufficient decrease in the function value. This method starts with an initial guess for the step size and iteratively scales it down until the Armijo condition is satisfied.\n"
   ]
  },
  {
   "cell_type": "code",
   "execution_count": null,
   "id": "1510ccb601402850",
   "metadata": {
    "is_executing": true
   },
   "outputs": [],
   "source": [
    "def line_search(func, grad_func, x, d, alpha_init=1.0, rho=0.9, c=1e-4, max_iter=50):\n",
    "    \"\"\"\n",
    "    Conducts a backtracking line search to find the step size that satisfies the Armijo condition.\n",
    "    \n",
    "    This line search method reduces the step size alpha iteratively until a decrease in the function\n",
    "    value satisfies the Armijo condition, which ensures sufficient decrease.\n",
    "\n",
    "    Args:\n",
    "        func (callable): The objective function to minimize. It should take a single numpy array argument.\n",
    "        grad_func (callable): The gradient of the objective function. It should take a single numpy array argument.\n",
    "        x (np.array): The current point in the parameter space where the function is evaluated.\n",
    "        d (np.array): The current search direction along which the line search is performed.\n",
    "        alpha_init (float): The initial step size for the line search.\n",
    "        rho (float): The factor by which the step size is reduced in each iteration (0 < rho < 1).\n",
    "        c (float): The Armijo constant used in the sufficient decrease condition (0 < c < 1).\n",
    "        max_iter (int): The maximum number of iterations to perform if the Armijo condition is not met.\n",
    "\n",
    "    Returns:\n",
    "        tuple: A tuple containing:\n",
    "            - alpha (float): The step size that satisfies the Armijo condition or the step size at the end of max_iter iterations.\n",
    "            - log (list of dicts): A log of each iteration's details including the iteration number, alpha value, function value, and target Armijo condition value.\n",
    "    \"\"\"\n",
    "    alpha = alpha_init\n",
    "    log = []\n",
    "    iteration = 0\n",
    "    while True:\n",
    "        f_current = func(x)\n",
    "        grad_current = grad_func(x)\n",
    "        f_test = func(x + alpha * d)\n",
    "        armijo_condition = f_current + c * alpha * np.dot(grad_current, d)\n",
    "        log.append({\n",
    "            'iteration': iteration + 1,\n",
    "            'alpha': alpha,\n",
    "            'function_value': f_test,\n",
    "            'target_value': armijo_condition\n",
    "        })\n",
    "#        if f_test <= armijo_condition or iteration >= max_iter:\n",
    "#            break\n",
    "        if f_test <= armijo_condition:\n",
    "            break\n",
    "        alpha *= rho\n",
    "        iteration += 1\n",
    "    return alpha, log\n"
   ]
  },
  {
   "cell_type": "markdown",
   "id": "8ee0842d1a49ed85",
   "metadata": {},
   "source": [
    "### Optimization Algorithms\n",
    "\n",
    "With the line search method defined, we can now incorporate it into the conjugate gradient algorithm, an efficient method for solving large-scale optimization problems. The conjugate gradient method uses line search to determine the optimal step size in each iteration, enhancing the algorithm's overall effectiveness.\n",
    "\n",
    "Conjugate gradient methods are iterative techniques that build a sequence of conjugate directions, along which the function is minimized. The general approach involves computing a search direction that is a linear combination of the steepest descent direction and the previous search direction."
   ]
  },
  {
   "cell_type": "markdown",
   "id": "274ed51cefe27b00",
   "metadata": {},
   "source": [
    "#### Fletcher-Reeves Method (FR)\n",
    "The FR method updates the search direction using:\n",
    "$$ \\beta_{k+1}^{FR} = \\frac{\\|\\nabla f(x_{k+1})\\|^2}{\\|\\nabla f(x_k)\\|^2} $$\n",
    "where \\( \\nabla f(x_k) \\) is the gradient of the function at step \\( k \\).\n",
    "\n",
    "#### Polak-Ribiere Method (PR)\n",
    "The PR method enhances the FR update by incorporating the gradient change:\n",
    "$$ \\beta_{k+1}^{PR} = \\frac{\\nabla f(x_{k+1})^T (\\nabla f(x_{k+1}) - \\nabla f(x_k))}{\\|\\nabla f(x_k)\\|^2} $$\n",
    "This modification can potentially lead to faster convergence by adjusting the direction based on the gradient's latest changes.\n"
   ]
  },
  {
   "cell_type": "code",
   "execution_count": 15,
   "id": "bd7dda049de0f36b",
   "metadata": {
    "ExecuteTime": {
     "end_time": "2024-05-13T10:18:19.308638Z",
     "start_time": "2024-05-13T10:18:19.305485Z"
    }
   },
   "outputs": [],
   "source": [
    "import numpy as np\n",
    "\n",
    "def conjugate_gradient_method(func, grad_func, x0, known_solution, method='FR', max_iter=10000, tol=1e-6, alpha_init=1.0, rho=0.9, c=1e-4, ls_max_iter=50):\n",
    "    \"\"\"\n",
    "    Implements the conjugate gradient optimization algorithm using either Fletcher-Reeves or Polak-Ribiere update rules, with backtracking line search.\n",
    "\n",
    "    Args:\n",
    "        func (callable): The objective function to minimize.\n",
    "        grad_func (callable): The gradient of the objective function.\n",
    "        x0 (np.array): Initial guess for the parameters.\n",
    "        known_solution (np.array): The known solution or global minimum for the function, used for calculating distance.\n",
    "        method (str): 'FR' for Fletcher-Reeves or 'PR' for Polak-Ribiere.\n",
    "        max_iter (int): Maximum number of iterations before termination.\n",
    "        tol (float): Tolerance for convergence, based on the norm of the gradient.\n",
    "        alpha_init (float): Initial step size for the line search.\n",
    "        rho (float): Contraction factor in the line search, typically between 0.1 and 0.9.\n",
    "        c (float): The Armijo rule constant in the line search.\n",
    "        ls_max_iter (int): Maximum number of iterations allowed in the line search.\n",
    "\n",
    "    Returns:\n",
    "        tuple: A tuple containing:\n",
    "               - Final parameter values (np.array)\n",
    "               - Number of iterations performed (int)\n",
    "               - Detailed log of the optimization process (list of dicts)\n",
    "               - Final gradient norm (float)\n",
    "               - Distance to the known solution (float)\n",
    "    \"\"\"\n",
    "    x = x0\n",
    "    g = grad_func(x)\n",
    "    d = -g\n",
    "    overall_log = []\n",
    "    for i in range(max_iter):\n",
    "        alpha, ls_log = line_search(func, grad_func, x, d, alpha_init, rho, c, ls_max_iter)\n",
    "        x_new = x + alpha * d\n",
    "        g_new = grad_func(x_new)\n",
    "        \n",
    "        beta = np.dot(g_new, g_new) / np.dot(g, g) if method == 'FR' else np.dot(g_new, g_new - g) / np.dot(g, g)\n",
    "        \n",
    "        d = -g_new + beta * d\n",
    "        if np.linalg.norm(g_new) < tol:\n",
    "            break\n",
    "        x = x_new\n",
    "        g = g_new\n",
    "        \n",
    "        overall_log.append({\n",
    "            'iteration': i + 1,\n",
    "            'x': x.copy(),\n",
    "            'gradient_norm': np.linalg.norm(g),\n",
    "            'alpha': alpha,\n",
    "            'beta': beta,\n",
    "            'function_value': func(x),\n",
    "            'line_search_log': ls_log\n",
    "        })\n",
    "\n",
    "    final_gradient_norm = np.linalg.norm(g_new)\n",
    "    distance_to_solution = np.linalg.norm(x - known_solution)\n",
    "\n",
    "    return x, i, overall_log, final_gradient_norm, distance_to_solution\n"
   ]
  },
  {
   "cell_type": "markdown",
   "id": "24eb1e805510e0b4",
   "metadata": {},
   "source": [
    "## Experiment Configuration\n",
    "\n",
    "We will test the optimization algorithms on two benchmark functions with the following initial points:\n",
    "\n",
    "- Rosenbrock function: Points `[-1.2, 1]`, `[0, 0]`, and `[2, 2]`.\n",
    "- Custom function: Points `[0.5, -1]`, `[2, 2]`, and `[-1, -1]`.\n",
    "\n",
    "Each test will be run with a convergence tolerance of \\(1e-6\\) and a maximum of 500000 iterations, allowing us to assess the efficiency and effectiveness of each method under various conditions.\n"
   ]
  },
  {
   "cell_type": "code",
   "execution_count": 16,
   "id": "3c284e2c960b84b4",
   "metadata": {
    "ExecuteTime": {
     "end_time": "2024-05-13T10:18:19.313817Z",
     "start_time": "2024-05-13T10:18:19.311554Z"
    }
   },
   "outputs": [],
   "source": [
    "# Define initial points for Rosenbrock function\n",
    "initial_points_rosenbrock = [np.array([1.2, 1.2]), np.array([-1.2, 1.0]), np.array([0.2, 0.8])]\n",
    "\n",
    "# Define initial points for the custom function\n",
    "initial_points_custom = [np.array([-0.2, 1.2]), np.array([3.8, 0.1]), np.array([1.9, 0.6])]\n"
   ]
  },
  {
   "cell_type": "code",
   "execution_count": 17,
   "id": "fdebb3be22e3d2e2",
   "metadata": {
    "ExecuteTime": {
     "end_time": "2024-05-13T10:18:19.319700Z",
     "start_time": "2024-05-13T10:18:19.317578Z"
    }
   },
   "outputs": [],
   "source": [
    "import pandas as pd\n",
    "\n",
    "def run_optimization_tests(method, func, grad, initial_points, known_solution):\n",
    "    \"\"\"\n",
    "    Runs optimization tests for a given function using the specified conjugate gradient method, and compiles the results into a pandas DataFrame.\n",
    "\n",
    "    Args:\n",
    "        method (str): Specifies the conjugate gradient method variant ('FR' for Fletcher-Reeves or 'PR' for Polak-Ribiere).\n",
    "        func (callable): The objective function to minimize.\n",
    "        grad (callable): The gradient of the objective function.\n",
    "        initial_points (list of np.array): List of initial points for the optimization.\n",
    "        known_solution (np.array): The known global minimum of the function, used for calculating the distance to the solution.\n",
    "\n",
    "    Returns:\n",
    "        pandas.DataFrame: A DataFrame containing the results from each optimization run, including the starting point, final iterate, number of iterations, final gradient norm, and the distance to the known solution.\n",
    "    \"\"\"\n",
    "    results = []  # Prepare a list to store result dictionaries\n",
    "    for x0 in initial_points:\n",
    "        _, num_iterations, overall_log, final_gradient_norm, distance_to_solution = conjugate_gradient_method(\n",
    "            func, grad, x0, known_solution, method=method, max_iter=700000, tol=1e-6, alpha_init=1.0, rho=0.9, c=1e-4, ls_max_iter=50\n",
    "        )\n",
    "        # Append a dictionary of results for this starting point to the results list\n",
    "        results.append({\n",
    "            'Starting Point': np.array_str(x0),\n",
    "            'Final Iterate': np.array_str(overall_log[-1]['x']),\n",
    "            'Number of Iterations': num_iterations,\n",
    "            'Final Gradient Norm': final_gradient_norm,\n",
    "            'Distance to Solution': distance_to_solution\n",
    "        })\n",
    "    \n",
    "    # Convert the list of dictionaries to a DataFrame and return\n",
    "    return pd.DataFrame(results)\n"
   ]
  },
  {
   "cell_type": "markdown",
   "id": "4765ea6e3a653f9a",
   "metadata": {},
   "source": [
    "## Optimization Results\n",
    "\n",
    "Below are the detailed results from each optimization run:\n"
   ]
  },
  {
   "cell_type": "code",
   "execution_count": 18,
   "id": "f91b150b05387b87",
   "metadata": {
    "ExecuteTime": {
     "end_time": "2024-05-13T10:57:16.746307Z",
     "start_time": "2024-05-13T10:18:19.328598Z"
    }
   },
   "outputs": [
    {
     "name": "stdout",
     "output_type": "stream",
     "text": [
      "Results for Rosenbrock Function (Fletcher-Reeves):\n"
     ]
    },
    {
     "data": {
      "text/plain": "  Starting Point            Final Iterate  Number of Iterations   \n0      [1.2 1.2]  [0.99999999 0.99999998]                   358  \\\n1    [-1.2  1. ]  [0.99999998 0.99999996]                   430   \n2      [0.2 0.8]    [1.0000009 1.0000018]                  1050   \n\n   Final Gradient Norm  Distance to Solution  \n0         9.293173e-07          1.826919e-08  \n1         9.637434e-07          3.922507e-08  \n2         8.450254e-07          2.017737e-06  ",
      "text/html": "<div>\n<style scoped>\n    .dataframe tbody tr th:only-of-type {\n        vertical-align: middle;\n    }\n\n    .dataframe tbody tr th {\n        vertical-align: top;\n    }\n\n    .dataframe thead th {\n        text-align: right;\n    }\n</style>\n<table border=\"1\" class=\"dataframe\">\n  <thead>\n    <tr style=\"text-align: right;\">\n      <th></th>\n      <th>Starting Point</th>\n      <th>Final Iterate</th>\n      <th>Number of Iterations</th>\n      <th>Final Gradient Norm</th>\n      <th>Distance to Solution</th>\n    </tr>\n  </thead>\n  <tbody>\n    <tr>\n      <th>0</th>\n      <td>[1.2 1.2]</td>\n      <td>[0.99999999 0.99999998]</td>\n      <td>358</td>\n      <td>9.293173e-07</td>\n      <td>1.826919e-08</td>\n    </tr>\n    <tr>\n      <th>1</th>\n      <td>[-1.2  1. ]</td>\n      <td>[0.99999998 0.99999996]</td>\n      <td>430</td>\n      <td>9.637434e-07</td>\n      <td>3.922507e-08</td>\n    </tr>\n    <tr>\n      <th>2</th>\n      <td>[0.2 0.8]</td>\n      <td>[1.0000009 1.0000018]</td>\n      <td>1050</td>\n      <td>8.450254e-07</td>\n      <td>2.017737e-06</td>\n    </tr>\n  </tbody>\n</table>\n</div>"
     },
     "metadata": {},
     "output_type": "display_data"
    },
    {
     "name": "stdout",
     "output_type": "stream",
     "text": [
      "Results for Custom Function (Fletcher-Reeves):\n"
     ]
    },
    {
     "data": {
      "text/plain": "  Starting Point                    Final Iterate  Number of Iterations   \n0    [-0.2  1.2]  [8.31564295e-09 9.99999937e-01]                   671  \\\n1      [3.8 0.1]  [3.99999998e+00 2.33822998e-10]                   417   \n2      [1.9 0.6]  [4.00000003e+00 1.97289911e-10]                   426   \n\n   Final Gradient Norm  Distance to Solution  \n0         8.522154e-07          4.123106e+00  \n1         9.583673e-07          1.880843e-08  \n2         8.698669e-07          3.473033e-08  ",
      "text/html": "<div>\n<style scoped>\n    .dataframe tbody tr th:only-of-type {\n        vertical-align: middle;\n    }\n\n    .dataframe tbody tr th {\n        vertical-align: top;\n    }\n\n    .dataframe thead th {\n        text-align: right;\n    }\n</style>\n<table border=\"1\" class=\"dataframe\">\n  <thead>\n    <tr style=\"text-align: right;\">\n      <th></th>\n      <th>Starting Point</th>\n      <th>Final Iterate</th>\n      <th>Number of Iterations</th>\n      <th>Final Gradient Norm</th>\n      <th>Distance to Solution</th>\n    </tr>\n  </thead>\n  <tbody>\n    <tr>\n      <th>0</th>\n      <td>[-0.2  1.2]</td>\n      <td>[8.31564295e-09 9.99999937e-01]</td>\n      <td>671</td>\n      <td>8.522154e-07</td>\n      <td>4.123106e+00</td>\n    </tr>\n    <tr>\n      <th>1</th>\n      <td>[3.8 0.1]</td>\n      <td>[3.99999998e+00 2.33822998e-10]</td>\n      <td>417</td>\n      <td>9.583673e-07</td>\n      <td>1.880843e-08</td>\n    </tr>\n    <tr>\n      <th>2</th>\n      <td>[1.9 0.6]</td>\n      <td>[4.00000003e+00 1.97289911e-10]</td>\n      <td>426</td>\n      <td>8.698669e-07</td>\n      <td>3.473033e-08</td>\n    </tr>\n  </tbody>\n</table>\n</div>"
     },
     "metadata": {},
     "output_type": "display_data"
    },
    {
     "name": "stdout",
     "output_type": "stream",
     "text": [
      "Results for Rosenbrock Function (Polak-Ribiere):\n"
     ]
    },
    {
     "data": {
      "text/plain": "  Starting Point            Final Iterate  Number of Iterations   \n0      [1.2 1.2]  [1.00000001 1.00000002]                 42060  \\\n1    [-1.2  1. ]  [1.00000001 1.00000002]                 48743   \n2      [0.2 0.8]  [1.00000001 1.00000002]                 59868   \n\n   Final Gradient Norm  Distance to Solution  \n0         9.999805e-07          1.731910e-08  \n1         9.999480e-07          1.904753e-08  \n2         9.208781e-07          1.757370e-08  ",
      "text/html": "<div>\n<style scoped>\n    .dataframe tbody tr th:only-of-type {\n        vertical-align: middle;\n    }\n\n    .dataframe tbody tr th {\n        vertical-align: top;\n    }\n\n    .dataframe thead th {\n        text-align: right;\n    }\n</style>\n<table border=\"1\" class=\"dataframe\">\n  <thead>\n    <tr style=\"text-align: right;\">\n      <th></th>\n      <th>Starting Point</th>\n      <th>Final Iterate</th>\n      <th>Number of Iterations</th>\n      <th>Final Gradient Norm</th>\n      <th>Distance to Solution</th>\n    </tr>\n  </thead>\n  <tbody>\n    <tr>\n      <th>0</th>\n      <td>[1.2 1.2]</td>\n      <td>[1.00000001 1.00000002]</td>\n      <td>42060</td>\n      <td>9.999805e-07</td>\n      <td>1.731910e-08</td>\n    </tr>\n    <tr>\n      <th>1</th>\n      <td>[-1.2  1. ]</td>\n      <td>[1.00000001 1.00000002]</td>\n      <td>48743</td>\n      <td>9.999480e-07</td>\n      <td>1.904753e-08</td>\n    </tr>\n    <tr>\n      <th>2</th>\n      <td>[0.2 0.8]</td>\n      <td>[1.00000001 1.00000002]</td>\n      <td>59868</td>\n      <td>9.208781e-07</td>\n      <td>1.757370e-08</td>\n    </tr>\n  </tbody>\n</table>\n</div>"
     },
     "metadata": {},
     "output_type": "display_data"
    },
    {
     "name": "stdout",
     "output_type": "stream",
     "text": [
      "Results for Custom Function (Polak-Ribiere):\n"
     ]
    },
    {
     "data": {
      "text/plain": "  Starting Point                    Final Iterate  Number of Iterations   \n0    [-0.2  1.2]  [3.99999939e+00 4.53869805e-10]                136050  \\\n1      [3.8 0.1]  [3.99999939e+00 5.15545954e-11]                123414   \n2      [1.9 0.6]  [3.99999939e+00 4.55919477e-10]                200585   \n\n   Final Gradient Norm  Distance to Solution  \n0         9.930581e-07          6.068122e-07  \n1         9.968647e-07          6.098958e-07  \n2         9.975122e-07          6.095695e-07  ",
      "text/html": "<div>\n<style scoped>\n    .dataframe tbody tr th:only-of-type {\n        vertical-align: middle;\n    }\n\n    .dataframe tbody tr th {\n        vertical-align: top;\n    }\n\n    .dataframe thead th {\n        text-align: right;\n    }\n</style>\n<table border=\"1\" class=\"dataframe\">\n  <thead>\n    <tr style=\"text-align: right;\">\n      <th></th>\n      <th>Starting Point</th>\n      <th>Final Iterate</th>\n      <th>Number of Iterations</th>\n      <th>Final Gradient Norm</th>\n      <th>Distance to Solution</th>\n    </tr>\n  </thead>\n  <tbody>\n    <tr>\n      <th>0</th>\n      <td>[-0.2  1.2]</td>\n      <td>[3.99999939e+00 4.53869805e-10]</td>\n      <td>136050</td>\n      <td>9.930581e-07</td>\n      <td>6.068122e-07</td>\n    </tr>\n    <tr>\n      <th>1</th>\n      <td>[3.8 0.1]</td>\n      <td>[3.99999939e+00 5.15545954e-11]</td>\n      <td>123414</td>\n      <td>9.968647e-07</td>\n      <td>6.098958e-07</td>\n    </tr>\n    <tr>\n      <th>2</th>\n      <td>[1.9 0.6]</td>\n      <td>[3.99999939e+00 4.55919477e-10]</td>\n      <td>200585</td>\n      <td>9.975122e-07</td>\n      <td>6.095695e-07</td>\n    </tr>\n  </tbody>\n</table>\n</div>"
     },
     "metadata": {},
     "output_type": "display_data"
    }
   ],
   "source": [
    "# Assume initial_points_rosenbrock and initial_points_custom are already defined\n",
    "rosenbrock_solution = np.array([1, 1])\n",
    "custom_solution = np.array([4, 0])\n",
    "\n",
    "# Run tests and display results\n",
    "results_df_rosenbrock_fr = run_optimization_tests('FR', safe_rosenbrock, safe_grad_rosenbrock, initial_points_rosenbrock, rosenbrock_solution)\n",
    "results_df_custom_fr = run_optimization_tests('FR', custom_function, grad_custom_function, initial_points_custom, custom_solution)\n",
    "results_df_rosenbrock_pr = run_optimization_tests('PR', safe_rosenbrock, safe_grad_rosenbrock, initial_points_rosenbrock, rosenbrock_solution)\n",
    "results_df_custom_pr = run_optimization_tests('PR', custom_function, grad_custom_function, initial_points_custom, custom_solution)\n",
    "\n",
    "print(\"Results for Rosenbrock Function (Fletcher-Reeves):\")\n",
    "display(results_df_rosenbrock_fr)  # Use display for nicer output in Jupyter Notebook\n",
    "\n",
    "print(\"Results for Custom Function (Fletcher-Reeves):\")\n",
    "display(results_df_custom_fr)\n",
    "\n",
    "print(\"Results for Rosenbrock Function (Polak-Ribiere):\")\n",
    "display(results_df_rosenbrock_pr)\n",
    "\n",
    "print(\"Results for Custom Function (Polak-Ribiere):\")\n",
    "display(results_df_custom_pr)\n"
   ]
  },
  {
   "cell_type": "markdown",
   "id": "9f915afa141a3bb7",
   "metadata": {},
   "source": [
    "For running and tuning each test individually:"
   ]
  },
  {
   "cell_type": "code",
   "execution_count": 19,
   "outputs": [],
   "source": [
    "import numpy as np\n",
    "import pandas as pd\n",
    "import time\n",
    "\n",
    "def run_test(func, grad_func, x0, known_solution, method='FR', max_iter=500000, alpha_init=1.0, rho=0.9, c=0.01):\n",
    "    \"\"\"\n",
    "    Runs a single test using the conjugate gradient method and captures key metrics.\n",
    "\n",
    "    Args:\n",
    "        func (callable): The function to minimize.\n",
    "        grad_func (callable): The gradient of the function.\n",
    "        x0 (np.array): Initial point for the optimization.\n",
    "        known_solution (np.array): Known global minimum of the function.\n",
    "        method (str): Optimization method to use ('FR' or 'PR').\n",
    "        max_iter (int): Maximum number of iterations.\n",
    "        alpha_init (float): Initial step size for line search.\n",
    "        rho (float): Reduction factor for line search step size.\n",
    "        c (float): Armijo constant in line search.\n",
    "\n",
    "    Returns:\n",
    "        pd.DataFrame: DataFrame containing the results of the test.\n",
    "    \"\"\"\n",
    "    start = time.time()\n",
    "    x_min, num_iters, logs, final_gradient_norm, distance_to_solution = conjugate_gradient_method(\n",
    "        func, grad_func, x0, known_solution, method=method, max_iter=max_iter, alpha_init=alpha_init, rho=rho, c=c\n",
    "    )\n",
    "    stop = time.time()\n",
    "\n",
    "    results = {\n",
    "        'Starting Point': np.array_str(x0),\n",
    "        'Known Solution': np.array_str(known_solution),\n",
    "        'Calculated Solution': np.array_str(logs[-1]['x']),\n",
    "        'Distance to Solution': distance_to_solution,\n",
    "        'Final Gradient Norm': final_gradient_norm,\n",
    "        'Number of Iterations': num_iters,\n",
    "        'Execution Time (s)': stop - start\n",
    "    }\n",
    "    \n",
    "    return pd.DataFrame([results])\n",
    "\n",
    "# Example usage:\n",
    "#x0_rosenbrock = np.array([1.2, 1.2])\n",
    "#known_rosenbrock = np.array([1, 1])\n",
    "\n",
    "#df_rosenbrock = run_test(\n",
    "#    safe_rosenbrock, safe_grad_rosenbrock, x0_rosenbrock, known_rosenbrock, method='FR'\n",
    "#)\n",
    "#display(df_rosenbrock)\n"
   ],
   "metadata": {
    "collapsed": false,
    "ExecuteTime": {
     "end_time": "2024-05-13T10:57:16.899263Z",
     "start_time": "2024-05-13T10:57:16.754671Z"
    }
   },
   "id": "4de48a9880be4d8b"
  },
  {
   "cell_type": "markdown",
   "id": "a58e5d7d1613fa46",
   "metadata": {},
   "source": [
    "Fletcher-Reevers:"
   ]
  },
  {
   "cell_type": "code",
   "execution_count": 20,
   "id": "e4e5936ec2f41283",
   "metadata": {
    "ExecuteTime": {
     "end_time": "2024-05-13T10:57:17.591893Z",
     "start_time": "2024-05-13T10:57:16.890903Z"
    }
   },
   "outputs": [
    {
     "data": {
      "text/plain": "  Starting Point Known Solution      Calculated Solution   \n0      [1.2 1.2]          [1 1]  [1.00000014 1.00000027]  \\\n\n   Distance to Solution  Final Gradient Norm  Number of Iterations   \n0          3.061061e-07         9.513325e-07                   267  \\\n\n   Execution Time (s)  \n0            0.794757  ",
      "text/html": "<div>\n<style scoped>\n    .dataframe tbody tr th:only-of-type {\n        vertical-align: middle;\n    }\n\n    .dataframe tbody tr th {\n        vertical-align: top;\n    }\n\n    .dataframe thead th {\n        text-align: right;\n    }\n</style>\n<table border=\"1\" class=\"dataframe\">\n  <thead>\n    <tr style=\"text-align: right;\">\n      <th></th>\n      <th>Starting Point</th>\n      <th>Known Solution</th>\n      <th>Calculated Solution</th>\n      <th>Distance to Solution</th>\n      <th>Final Gradient Norm</th>\n      <th>Number of Iterations</th>\n      <th>Execution Time (s)</th>\n    </tr>\n  </thead>\n  <tbody>\n    <tr>\n      <th>0</th>\n      <td>[1.2 1.2]</td>\n      <td>[1 1]</td>\n      <td>[1.00000014 1.00000027]</td>\n      <td>3.061061e-07</td>\n      <td>9.513325e-07</td>\n      <td>267</td>\n      <td>0.794757</td>\n    </tr>\n  </tbody>\n</table>\n</div>"
     },
     "metadata": {},
     "output_type": "display_data"
    }
   ],
   "source": [
    "# Rosenbrock with Fletcher-Reevers at (1.2, 1.2):\n",
    "x0_rosenbrock = np.array([1.2, 1.2])\n",
    "known_rosenbrock = np.array([1, 1])\n",
    "\n",
    "df_rosenbrock = run_test(\n",
    "    safe_rosenbrock, safe_grad_rosenbrock, x0_rosenbrock, known_rosenbrock, method='FR'\n",
    ")\n",
    "display(df_rosenbrock)\n"
   ]
  },
  {
   "cell_type": "code",
   "execution_count": 21,
   "id": "b40ebef61a7b0c32",
   "metadata": {
    "ExecuteTime": {
     "end_time": "2024-05-13T10:57:19.153605Z",
     "start_time": "2024-05-13T10:57:17.640891Z"
    }
   },
   "outputs": [
    {
     "data": {
      "text/plain": "  Starting Point Known Solution      Calculated Solution   \n0    [-1.2  1. ]        [1. 1.]  [1.0000004  1.00000081]  \\\n\n   Distance to Solution  Final Gradient Norm  Number of Iterations   \n0          9.042600e-07         7.941245e-07                   505  \\\n\n   Execution Time (s)  \n0            1.580579  ",
      "text/html": "<div>\n<style scoped>\n    .dataframe tbody tr th:only-of-type {\n        vertical-align: middle;\n    }\n\n    .dataframe tbody tr th {\n        vertical-align: top;\n    }\n\n    .dataframe thead th {\n        text-align: right;\n    }\n</style>\n<table border=\"1\" class=\"dataframe\">\n  <thead>\n    <tr style=\"text-align: right;\">\n      <th></th>\n      <th>Starting Point</th>\n      <th>Known Solution</th>\n      <th>Calculated Solution</th>\n      <th>Distance to Solution</th>\n      <th>Final Gradient Norm</th>\n      <th>Number of Iterations</th>\n      <th>Execution Time (s)</th>\n    </tr>\n  </thead>\n  <tbody>\n    <tr>\n      <th>0</th>\n      <td>[-1.2  1. ]</td>\n      <td>[1. 1.]</td>\n      <td>[1.0000004  1.00000081]</td>\n      <td>9.042600e-07</td>\n      <td>7.941245e-07</td>\n      <td>505</td>\n      <td>1.580579</td>\n    </tr>\n  </tbody>\n</table>\n</div>"
     },
     "metadata": {},
     "output_type": "display_data"
    }
   ],
   "source": [
    "# Rosenbrock with Fletcher-Reevers at (-1.2, 1.0):\n",
    "x0_rosenbrock = np.array([-1.2, 1.0])\n",
    "known_rosenbrock = np.array([1.0, 1.0])\n",
    "\n",
    "df_rosenbrock = run_test(\n",
    "    safe_rosenbrock, safe_grad_rosenbrock, x0_rosenbrock, known_rosenbrock, method='FR'\n",
    ")\n",
    "display(df_rosenbrock)\n"
   ]
  },
  {
   "cell_type": "code",
   "execution_count": 22,
   "id": "2e1f601a63d2022d",
   "metadata": {
    "ExecuteTime": {
     "end_time": "2024-05-13T10:57:21.549012Z",
     "start_time": "2024-05-13T10:57:19.340949Z"
    }
   },
   "outputs": [
    {
     "data": {
      "text/plain": "  Starting Point Known Solution      Calculated Solution   \n0      [0.2 0.8]        [1. 1.]  [0.99999986 0.99999973]  \\\n\n   Distance to Solution  Final Gradient Norm  Number of Iterations   \n0          3.050252e-07         8.214121e-07                   551  \\\n\n   Execution Time (s)  \n0            2.379362  ",
      "text/html": "<div>\n<style scoped>\n    .dataframe tbody tr th:only-of-type {\n        vertical-align: middle;\n    }\n\n    .dataframe tbody tr th {\n        vertical-align: top;\n    }\n\n    .dataframe thead th {\n        text-align: right;\n    }\n</style>\n<table border=\"1\" class=\"dataframe\">\n  <thead>\n    <tr style=\"text-align: right;\">\n      <th></th>\n      <th>Starting Point</th>\n      <th>Known Solution</th>\n      <th>Calculated Solution</th>\n      <th>Distance to Solution</th>\n      <th>Final Gradient Norm</th>\n      <th>Number of Iterations</th>\n      <th>Execution Time (s)</th>\n    </tr>\n  </thead>\n  <tbody>\n    <tr>\n      <th>0</th>\n      <td>[0.2 0.8]</td>\n      <td>[1. 1.]</td>\n      <td>[0.99999986 0.99999973]</td>\n      <td>3.050252e-07</td>\n      <td>8.214121e-07</td>\n      <td>551</td>\n      <td>2.379362</td>\n    </tr>\n  </tbody>\n</table>\n</div>"
     },
     "metadata": {},
     "output_type": "display_data"
    }
   ],
   "source": [
    "# Rosenbrock with Fletcher-Reevers at (0.2, 0.8):\n",
    "x0_rosenbrock = np.array([0.2, 0.8])\n",
    "known_rosenbrock = np.array([1.0, 1.0])\n",
    "\n",
    "df_rosenbrock = run_test(\n",
    "    safe_rosenbrock, safe_grad_rosenbrock, x0_rosenbrock, known_rosenbrock, method='FR'\n",
    ")\n",
    "display(df_rosenbrock)\n"
   ]
  },
  {
   "cell_type": "code",
   "execution_count": 23,
   "id": "66fc07c9e19c0e3e",
   "metadata": {
    "ExecuteTime": {
     "end_time": "2024-05-13T10:57:21.842206Z",
     "start_time": "2024-05-13T10:57:21.550212Z"
    }
   },
   "outputs": [
    {
     "data": {
      "text/plain": "  Starting Point Known Solution              Calculated Solution   \n0    [-0.2  1.2]        [0. 1.]  [1.66189452e-08 9.99999941e-01]  \\\n\n   Distance to Solution  Final Gradient Norm  Number of Iterations   \n0          6.115246e-08         9.070521e-07                   420  \\\n\n   Execution Time (s)  \n0            0.251913  ",
      "text/html": "<div>\n<style scoped>\n    .dataframe tbody tr th:only-of-type {\n        vertical-align: middle;\n    }\n\n    .dataframe tbody tr th {\n        vertical-align: top;\n    }\n\n    .dataframe thead th {\n        text-align: right;\n    }\n</style>\n<table border=\"1\" class=\"dataframe\">\n  <thead>\n    <tr style=\"text-align: right;\">\n      <th></th>\n      <th>Starting Point</th>\n      <th>Known Solution</th>\n      <th>Calculated Solution</th>\n      <th>Distance to Solution</th>\n      <th>Final Gradient Norm</th>\n      <th>Number of Iterations</th>\n      <th>Execution Time (s)</th>\n    </tr>\n  </thead>\n  <tbody>\n    <tr>\n      <th>0</th>\n      <td>[-0.2  1.2]</td>\n      <td>[0. 1.]</td>\n      <td>[1.66189452e-08 9.99999941e-01]</td>\n      <td>6.115246e-08</td>\n      <td>9.070521e-07</td>\n      <td>420</td>\n      <td>0.251913</td>\n    </tr>\n  </tbody>\n</table>\n</div>"
     },
     "metadata": {},
     "output_type": "display_data"
    }
   ],
   "source": [
    "# Custom function with Fletcher-Reevers at (-0.2, 1.2)\n",
    "x0_custom = np.array([-0.2, 1.2])\n",
    "known_custom = np.array([0.0, 1.0])\n",
    "\n",
    "df_custom = run_test(\n",
    "    custom_function, grad_custom_function, x0_custom, known_custom, method='FR'\n",
    ")\n",
    "display(df_custom)"
   ]
  },
  {
   "cell_type": "code",
   "execution_count": 24,
   "id": "f791ecb39fdc82",
   "metadata": {
    "ExecuteTime": {
     "end_time": "2024-05-13T10:57:22.147825Z",
     "start_time": "2024-05-13T10:57:21.841237Z"
    }
   },
   "outputs": [
    {
     "data": {
      "text/plain": "  Starting Point Known Solution              Calculated Solution   \n0      [3.8 0.1]        [4. 0.]  [ 4.0000003e+00 -3.9505335e-10]  \\\n\n   Distance to Solution  Final Gradient Norm  Number of Iterations   \n0          3.025209e-07         9.559757e-07                   457  \\\n\n   Execution Time (s)  \n0            0.323323  ",
      "text/html": "<div>\n<style scoped>\n    .dataframe tbody tr th:only-of-type {\n        vertical-align: middle;\n    }\n\n    .dataframe tbody tr th {\n        vertical-align: top;\n    }\n\n    .dataframe thead th {\n        text-align: right;\n    }\n</style>\n<table border=\"1\" class=\"dataframe\">\n  <thead>\n    <tr style=\"text-align: right;\">\n      <th></th>\n      <th>Starting Point</th>\n      <th>Known Solution</th>\n      <th>Calculated Solution</th>\n      <th>Distance to Solution</th>\n      <th>Final Gradient Norm</th>\n      <th>Number of Iterations</th>\n      <th>Execution Time (s)</th>\n    </tr>\n  </thead>\n  <tbody>\n    <tr>\n      <th>0</th>\n      <td>[3.8 0.1]</td>\n      <td>[4. 0.]</td>\n      <td>[ 4.0000003e+00 -3.9505335e-10]</td>\n      <td>3.025209e-07</td>\n      <td>9.559757e-07</td>\n      <td>457</td>\n      <td>0.323323</td>\n    </tr>\n  </tbody>\n</table>\n</div>"
     },
     "metadata": {},
     "output_type": "display_data"
    }
   ],
   "source": [
    "# Custom function with Fletcher-Reevers at (3.8, 0.1)\n",
    "x0_custom = np.array([3.8, 0.1])\n",
    "known_custom = np.array([4.0, 0.0])\n",
    "\n",
    "df_custom = run_test(\n",
    "    custom_function, grad_custom_function, x0_custom, known_custom, method='FR'\n",
    ")\n",
    "display(df_custom)"
   ]
  },
  {
   "cell_type": "code",
   "execution_count": 25,
   "id": "22858987da11d2",
   "metadata": {
    "ExecuteTime": {
     "end_time": "2024-05-13T10:57:22.493087Z",
     "start_time": "2024-05-13T10:57:22.149470Z"
    }
   },
   "outputs": [
    {
     "data": {
      "text/plain": "  Starting Point Known Solution              Calculated Solution   \n0      [1.9 0.6]        [0. 1.]  [3.81287695e-09 1.00000011e+00]  \\\n\n   Distance to Solution  Final Gradient Norm  Number of Iterations   \n0          1.124647e-07         9.290424e-07                   583  \\\n\n   Execution Time (s)  \n0             0.29911  ",
      "text/html": "<div>\n<style scoped>\n    .dataframe tbody tr th:only-of-type {\n        vertical-align: middle;\n    }\n\n    .dataframe tbody tr th {\n        vertical-align: top;\n    }\n\n    .dataframe thead th {\n        text-align: right;\n    }\n</style>\n<table border=\"1\" class=\"dataframe\">\n  <thead>\n    <tr style=\"text-align: right;\">\n      <th></th>\n      <th>Starting Point</th>\n      <th>Known Solution</th>\n      <th>Calculated Solution</th>\n      <th>Distance to Solution</th>\n      <th>Final Gradient Norm</th>\n      <th>Number of Iterations</th>\n      <th>Execution Time (s)</th>\n    </tr>\n  </thead>\n  <tbody>\n    <tr>\n      <th>0</th>\n      <td>[1.9 0.6]</td>\n      <td>[0. 1.]</td>\n      <td>[3.81287695e-09 1.00000011e+00]</td>\n      <td>1.124647e-07</td>\n      <td>9.290424e-07</td>\n      <td>583</td>\n      <td>0.29911</td>\n    </tr>\n  </tbody>\n</table>\n</div>"
     },
     "metadata": {},
     "output_type": "display_data"
    }
   ],
   "source": [
    "# Custom function with Fletcher-Reevers at (1.9, 0.6)\n",
    "x0_custom = np.array([1.9, 0.6])\n",
    "known_custom = np.array([0.0, 1.0])\n",
    "\n",
    "df_custom = run_test(\n",
    "    custom_function, grad_custom_function, x0_custom, known_custom, method='FR'\n",
    ")\n",
    "display(df_custom)"
   ]
  },
  {
   "cell_type": "markdown",
   "id": "2fbce0c9b1c4abb2",
   "metadata": {},
   "source": [
    "Polak-Ribiere:"
   ]
  },
  {
   "cell_type": "code",
   "execution_count": 26,
   "id": "e93908e310a35bfb",
   "metadata": {
    "ExecuteTime": {
     "end_time": "2024-05-13T11:03:00.650101Z",
     "start_time": "2024-05-13T10:57:22.590984Z"
    }
   },
   "outputs": [
    {
     "data": {
      "text/plain": "  Starting Point Known Solution      Calculated Solution   \n0      [1.2 1.2]        [1. 1.]  [1.00000013 1.00000027]  \\\n\n   Distance to Solution  Final Gradient Norm  Number of Iterations   \n0          2.956403e-07         9.500237e-07                 34946  \\\n\n   Execution Time (s)  \n0          337.684152  ",
      "text/html": "<div>\n<style scoped>\n    .dataframe tbody tr th:only-of-type {\n        vertical-align: middle;\n    }\n\n    .dataframe tbody tr th {\n        vertical-align: top;\n    }\n\n    .dataframe thead th {\n        text-align: right;\n    }\n</style>\n<table border=\"1\" class=\"dataframe\">\n  <thead>\n    <tr style=\"text-align: right;\">\n      <th></th>\n      <th>Starting Point</th>\n      <th>Known Solution</th>\n      <th>Calculated Solution</th>\n      <th>Distance to Solution</th>\n      <th>Final Gradient Norm</th>\n      <th>Number of Iterations</th>\n      <th>Execution Time (s)</th>\n    </tr>\n  </thead>\n  <tbody>\n    <tr>\n      <th>0</th>\n      <td>[1.2 1.2]</td>\n      <td>[1. 1.]</td>\n      <td>[1.00000013 1.00000027]</td>\n      <td>2.956403e-07</td>\n      <td>9.500237e-07</td>\n      <td>34946</td>\n      <td>337.684152</td>\n    </tr>\n  </tbody>\n</table>\n</div>"
     },
     "metadata": {},
     "output_type": "display_data"
    }
   ],
   "source": [
    "# Rosenbrock with Polak-Ribiere at (1.2, 1.2):\n",
    "x0_rosenbrock = np.array([1.2, 1.2])\n",
    "known_rosenbrock = np.array([1.0, 1.0])\n",
    "\n",
    "df_rosenbrock = run_test(\n",
    "    safe_rosenbrock, safe_grad_rosenbrock, x0_rosenbrock, known_rosenbrock, method='PR'\n",
    ")\n",
    "display(df_rosenbrock)"
   ]
  },
  {
   "cell_type": "code",
   "execution_count": 27,
   "id": "755a2d7fcc4c9aad",
   "metadata": {
    "ExecuteTime": {
     "end_time": "2024-05-13T11:10:46.425335Z",
     "start_time": "2024-05-13T11:03:00.648502Z"
    }
   },
   "outputs": [
    {
     "data": {
      "text/plain": "  Starting Point Known Solution      Calculated Solution   \n0    [-1.2  1. ]        [1. 1.]  [1.00000012 1.00000024]  \\\n\n   Distance to Solution  Final Gradient Norm  Number of Iterations   \n0          2.707479e-07         8.703475e-07                 42093  \\\n\n   Execution Time (s)  \n0          465.110381  ",
      "text/html": "<div>\n<style scoped>\n    .dataframe tbody tr th:only-of-type {\n        vertical-align: middle;\n    }\n\n    .dataframe tbody tr th {\n        vertical-align: top;\n    }\n\n    .dataframe thead th {\n        text-align: right;\n    }\n</style>\n<table border=\"1\" class=\"dataframe\">\n  <thead>\n    <tr style=\"text-align: right;\">\n      <th></th>\n      <th>Starting Point</th>\n      <th>Known Solution</th>\n      <th>Calculated Solution</th>\n      <th>Distance to Solution</th>\n      <th>Final Gradient Norm</th>\n      <th>Number of Iterations</th>\n      <th>Execution Time (s)</th>\n    </tr>\n  </thead>\n  <tbody>\n    <tr>\n      <th>0</th>\n      <td>[-1.2  1. ]</td>\n      <td>[1. 1.]</td>\n      <td>[1.00000012 1.00000024]</td>\n      <td>2.707479e-07</td>\n      <td>8.703475e-07</td>\n      <td>42093</td>\n      <td>465.110381</td>\n    </tr>\n  </tbody>\n</table>\n</div>"
     },
     "metadata": {},
     "output_type": "display_data"
    }
   ],
   "source": [
    "# Rosenbrock with Polak-Ribiere at (-1.2, 1.0):\n",
    "x0_rosenbrock = np.array([-1.2, 1.0])\n",
    "known_rosenbrock = np.array([1.0, 1.0])\n",
    "\n",
    "df_rosenbrock = run_test(\n",
    "    safe_rosenbrock, safe_grad_rosenbrock, x0_rosenbrock, known_rosenbrock, method='PR'\n",
    ")\n",
    "display(df_rosenbrock)"
   ]
  },
  {
   "cell_type": "code",
   "execution_count": 28,
   "id": "fd1198ab3900cdea",
   "metadata": {
    "ExecuteTime": {
     "end_time": "2024-05-13T11:17:54.428901Z",
     "start_time": "2024-05-13T11:10:46.473191Z"
    }
   },
   "outputs": [
    {
     "data": {
      "text/plain": "  Starting Point Known Solution      Calculated Solution   \n0      [0.2 0.8]        [1. 1.]  [1.00000012 1.00000024]  \\\n\n   Distance to Solution  Final Gradient Norm  Number of Iterations   \n0          2.731361e-07         8.776023e-07                 52998  \\\n\n   Execution Time (s)  \n0          427.267237  ",
      "text/html": "<div>\n<style scoped>\n    .dataframe tbody tr th:only-of-type {\n        vertical-align: middle;\n    }\n\n    .dataframe tbody tr th {\n        vertical-align: top;\n    }\n\n    .dataframe thead th {\n        text-align: right;\n    }\n</style>\n<table border=\"1\" class=\"dataframe\">\n  <thead>\n    <tr style=\"text-align: right;\">\n      <th></th>\n      <th>Starting Point</th>\n      <th>Known Solution</th>\n      <th>Calculated Solution</th>\n      <th>Distance to Solution</th>\n      <th>Final Gradient Norm</th>\n      <th>Number of Iterations</th>\n      <th>Execution Time (s)</th>\n    </tr>\n  </thead>\n  <tbody>\n    <tr>\n      <th>0</th>\n      <td>[0.2 0.8]</td>\n      <td>[1. 1.]</td>\n      <td>[1.00000012 1.00000024]</td>\n      <td>2.731361e-07</td>\n      <td>8.776023e-07</td>\n      <td>52998</td>\n      <td>427.267237</td>\n    </tr>\n  </tbody>\n</table>\n</div>"
     },
     "metadata": {},
     "output_type": "display_data"
    }
   ],
   "source": [
    "# Rosenbrock with Polak-Ribiere at (0.2, 0.8):\n",
    "x0_rosenbrock = np.array([0.2, 0.8])\n",
    "known_rosenbrock = np.array([1.0, 1.0])\n",
    "\n",
    "df_rosenbrock = run_test(\n",
    "    safe_rosenbrock, safe_grad_rosenbrock, x0_rosenbrock, known_rosenbrock, method='PR'\n",
    ")\n",
    "display(df_rosenbrock)"
   ]
  },
  {
   "cell_type": "code",
   "execution_count": 29,
   "id": "d3a6da54882f5aaa",
   "metadata": {
    "ExecuteTime": {
     "end_time": "2024-05-13T11:24:42.998463Z",
     "start_time": "2024-05-13T11:17:54.431445Z"
    }
   },
   "outputs": [
    {
     "data": {
      "text/plain": "  Starting Point Known Solution              Calculated Solution   \n0    [-0.2  1.2]        [4. 0.]  [3.99999936e+00 6.41808346e-11]  \\\n\n   Distance to Solution  Final Gradient Norm  Number of Iterations   \n0          6.380448e-07         9.971666e-07                135564  \\\n\n   Execution Time (s)  \n0          406.062963  ",
      "text/html": "<div>\n<style scoped>\n    .dataframe tbody tr th:only-of-type {\n        vertical-align: middle;\n    }\n\n    .dataframe tbody tr th {\n        vertical-align: top;\n    }\n\n    .dataframe thead th {\n        text-align: right;\n    }\n</style>\n<table border=\"1\" class=\"dataframe\">\n  <thead>\n    <tr style=\"text-align: right;\">\n      <th></th>\n      <th>Starting Point</th>\n      <th>Known Solution</th>\n      <th>Calculated Solution</th>\n      <th>Distance to Solution</th>\n      <th>Final Gradient Norm</th>\n      <th>Number of Iterations</th>\n      <th>Execution Time (s)</th>\n    </tr>\n  </thead>\n  <tbody>\n    <tr>\n      <th>0</th>\n      <td>[-0.2  1.2]</td>\n      <td>[4. 0.]</td>\n      <td>[3.99999936e+00 6.41808346e-11]</td>\n      <td>6.380448e-07</td>\n      <td>9.971666e-07</td>\n      <td>135564</td>\n      <td>406.062963</td>\n    </tr>\n  </tbody>\n</table>\n</div>"
     },
     "metadata": {},
     "output_type": "display_data"
    }
   ],
   "source": [
    "# Custom function with Polak-Ribiere at (-0.2, 1.2)\n",
    "x0_custom = np.array([-0.2, 1.2])\n",
    "known_custom = np.array([4.0, 0.0])\n",
    "\n",
    "df_custom = run_test(\n",
    "    custom_function, grad_custom_function, x0_custom, known_custom, method='PR'\n",
    ")\n",
    "display(df_custom)"
   ]
  },
  {
   "cell_type": "code",
   "execution_count": 30,
   "id": "23d49fe81e277de",
   "metadata": {
    "ExecuteTime": {
     "end_time": "2024-05-13T11:28:33.608352Z",
     "start_time": "2024-05-13T11:24:43.006594Z"
    }
   },
   "outputs": [
    {
     "data": {
      "text/plain": "  Starting Point Known Solution              Calculated Solution   \n0      [3.8 0.1]        [4. 0.]  [3.99999936e+00 4.66040643e-10]  \\\n\n   Distance to Solution  Final Gradient Norm  Number of Iterations   \n0          6.368097e-07         9.963518e-07                122524  \\\n\n   Execution Time (s)  \n0          228.600885  ",
      "text/html": "<div>\n<style scoped>\n    .dataframe tbody tr th:only-of-type {\n        vertical-align: middle;\n    }\n\n    .dataframe tbody tr th {\n        vertical-align: top;\n    }\n\n    .dataframe thead th {\n        text-align: right;\n    }\n</style>\n<table border=\"1\" class=\"dataframe\">\n  <thead>\n    <tr style=\"text-align: right;\">\n      <th></th>\n      <th>Starting Point</th>\n      <th>Known Solution</th>\n      <th>Calculated Solution</th>\n      <th>Distance to Solution</th>\n      <th>Final Gradient Norm</th>\n      <th>Number of Iterations</th>\n      <th>Execution Time (s)</th>\n    </tr>\n  </thead>\n  <tbody>\n    <tr>\n      <th>0</th>\n      <td>[3.8 0.1]</td>\n      <td>[4. 0.]</td>\n      <td>[3.99999936e+00 4.66040643e-10]</td>\n      <td>6.368097e-07</td>\n      <td>9.963518e-07</td>\n      <td>122524</td>\n      <td>228.600885</td>\n    </tr>\n  </tbody>\n</table>\n</div>"
     },
     "metadata": {},
     "output_type": "display_data"
    }
   ],
   "source": [
    "# Custom function with Polak-Ribiere at (3.8, 0.1)\n",
    "x0_custom = np.array([3.8, 0.1])\n",
    "known_custom = np.array([4.0, 0.0])\n",
    "\n",
    "df_custom = run_test(\n",
    "    custom_function, grad_custom_function, x0_custom, known_custom, method='PR'\n",
    ")\n",
    "display(df_custom)"
   ]
  },
  {
   "cell_type": "code",
   "execution_count": 31,
   "id": "e3b0f0bb845b8616",
   "metadata": {
    "ExecuteTime": {
     "end_time": "2024-05-13T11:35:03.508453Z",
     "start_time": "2024-05-13T11:28:33.611430Z"
    }
   },
   "outputs": [
    {
     "data": {
      "text/plain": "  Starting Point Known Solution                Calculated Solution   \n0      [1.9 0.6]        [4. 0.]  [ 4.00000064e+00 -6.45558086e-11]  \\\n\n   Distance to Solution  Final Gradient Norm  Number of Iterations   \n0          6.374910e-07         9.943869e-07                169673  \\\n\n   Execution Time (s)  \n0          379.543619  ",
      "text/html": "<div>\n<style scoped>\n    .dataframe tbody tr th:only-of-type {\n        vertical-align: middle;\n    }\n\n    .dataframe tbody tr th {\n        vertical-align: top;\n    }\n\n    .dataframe thead th {\n        text-align: right;\n    }\n</style>\n<table border=\"1\" class=\"dataframe\">\n  <thead>\n    <tr style=\"text-align: right;\">\n      <th></th>\n      <th>Starting Point</th>\n      <th>Known Solution</th>\n      <th>Calculated Solution</th>\n      <th>Distance to Solution</th>\n      <th>Final Gradient Norm</th>\n      <th>Number of Iterations</th>\n      <th>Execution Time (s)</th>\n    </tr>\n  </thead>\n  <tbody>\n    <tr>\n      <th>0</th>\n      <td>[1.9 0.6]</td>\n      <td>[4. 0.]</td>\n      <td>[ 4.00000064e+00 -6.45558086e-11]</td>\n      <td>6.374910e-07</td>\n      <td>9.943869e-07</td>\n      <td>169673</td>\n      <td>379.543619</td>\n    </tr>\n  </tbody>\n</table>\n</div>"
     },
     "metadata": {},
     "output_type": "display_data"
    }
   ],
   "source": [
    "# Custom function with Polak-Ribiere at (1.9, 0.6)\n",
    "x0_custom = np.array([1.9, 0.6])\n",
    "known_custom = np.array([4.0, 0.0])\n",
    "\n",
    "df_custom = run_test(\n",
    "    custom_function, grad_custom_function, x0_custom, known_custom, method='PR'\n",
    ")\n",
    "display(df_custom)"
   ]
  },
  {
   "cell_type": "markdown",
   "id": "c16c10bcb05d3c1",
   "metadata": {},
   "source": [
    "### Results Analysis\n",
    "\n",
    "The results from the optimization tests on both the Rosenbrock and Custom functions illustrate key differences in the convergence behavior of the Fletcher-Reeves and Polak-Ribiere methods. For example, the Fletcher-Reeves method showed faster convergence on the Rosenbrock function from closer initial points to the global minimum, while Polak-Ribiere was more robust to poor initial conditions on the Custom function.\n",
    "\n",
    "#### Observations:\n",
    "- **Rosenbrock Function**: Detailed observations about each starting point and method's performance.\n",
    "- **Custom Function**: Discussion on the resilience of the methods against complex landscapes.\n",
    "\n",
    "These findings suggest that the choice of method can significantly impact the efficiency and success of optimization, especially in complex or ill-conditioned problem spaces.\n"
   ]
  }
 ],
 "metadata": {
  "kernelspec": {
   "display_name": "Python 3 (ipykernel)",
   "language": "python",
   "name": "python3"
  },
  "language_info": {
   "codemirror_mode": {
    "name": "ipython",
    "version": 2
   },
   "file_extension": ".py",
   "mimetype": "text/x-python",
   "name": "python",
   "nbconvert_exporter": "python",
   "pygments_lexer": "ipython2",
   "version": "2.7.6"
  },
  "toc": {
   "base_numbering": 1,
   "nav_menu": {},
   "number_sections": true,
   "sideBar": true,
   "skip_h1_title": false,
   "title_cell": "Table of Contents",
   "title_sidebar": "Contents",
   "toc_cell": false,
   "toc_position": {},
   "toc_section_display": true,
   "toc_window_display": false
  }
 },
 "nbformat": 4,
 "nbformat_minor": 5
}
