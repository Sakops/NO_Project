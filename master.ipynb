{
 "cells": [
  {
   "cell_type": "code",
   "execution_count": 1,
   "id": "initial_id",
   "metadata": {
    "collapsed": true,
    "ExecuteTime": {
     "end_time": "2024-05-13T04:47:15.745424Z",
     "start_time": "2024-05-13T04:47:15.545339Z"
    }
   },
   "outputs": [],
   "source": [
    "import nbformat\n",
    "\n",
    "# load filial notebooks\n",
    "nb0 = nbformat.read(open('main.ipynb'), as_version=4)\n",
    "#nb1 = nbformat.read(open('task1.ipynb'), as_version=4)\n",
    "#nb2 = nbformat.read(open('task2.ipynb'), as_version=4)\n",
    "nb3 = nbformat.read(open('task3.ipynb'), as_version=4)\n",
    "#nb4 = nbformat.read(open('task4.ipynb'), as_version=4)\n",
    "#nb5 = nbformat.read(open('task5.ipynb'), as_version=4)\n",
    "#nb6 = nbformat.read(open('task6.ipynb'), as_version=4)\n",
    "\n",
    "# Create central notebook\n",
    "project_notebook = nbformat.v4.new_notebook()\n",
    "\n",
    "# aggregate filial notebooks into central one\n",
    "project_notebook.cells.extend(nb0.cells)\n",
    "#project_notebook.cells.extend(nb1.cells)\n",
    "#project_notebook.cells.extend(nb2.cells)\n",
    "project_notebook.cells.extend(nb3.cells)\n",
    "#project_notebook.cells.extend(nb4.cells)\n",
    "#project_notebook.cells.extend(nb5.cells)\n",
    "#project_notebook.cells.extend(nb6.cells)\n",
    "\n",
    "# save central notebook\n",
    "nbformat.write(project_notebook, open('project.ipynb', 'w'))"
   ]
  },
  {
   "cell_type": "code",
   "execution_count": null,
   "outputs": [],
   "source": [],
   "metadata": {
    "collapsed": false
   },
   "id": "48ac9f0f1b6a1d82"
  }
 ],
 "metadata": {
  "kernelspec": {
   "display_name": "Python 3",
   "language": "python",
   "name": "python3"
  },
  "language_info": {
   "codemirror_mode": {
    "name": "ipython",
    "version": 2
   },
   "file_extension": ".py",
   "mimetype": "text/x-python",
   "name": "python",
   "nbconvert_exporter": "python",
   "pygments_lexer": "ipython2",
   "version": "2.7.6"
  }
 },
 "nbformat": 4,
 "nbformat_minor": 5
}
